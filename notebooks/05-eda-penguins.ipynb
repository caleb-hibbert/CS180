{
  "cells": [
    {
      "cell_type": "markdown",
      "metadata": {
        "id": "ySJFLYMR3fQd"
      },
      "source": [
        "Palmer Penguins Dataset: Overview\n",
        "\n",
        "The Palmer Penguins dataset contains data about three species of penguins observed in the Palmer Archipelago, Antarctica. The dataset was collected by Dr. Kristen Gorman and the Palmer Station LTER (Long Term Ecological Research) Program. It serves as a popular alternative to the Iris dataset for data exploration, statistical analysis, and machine learning practice due to its richer set of features and categorical variables.\n",
        "\n",
        "Objective:\n",
        "\n",
        "The primary goal of working with the Palmer Penguins dataset is to explore relationships between penguin species and their physical characteristics, as well as to perform classification tasks, such as predicting the species of a penguin based on measurable features. The dataset also offers an opportunity to practice data cleaning and handling missing values, as there are some missing entries.\n",
        "\n",
        "Dataset Features:\n",
        "\n",
        "The dataset consists of 344 rows and 7 columns. The columns are:\n",
        "\n",
        "\t1.\tspecies: Categorical feature indicating the penguin species (Adélie, Chinstrap, Gentoo).\n",
        "\t2.\tisland: Categorical feature representing the island where the penguin was observed (Biscoe, Dream, Torgersen).\n",
        "\t3.\tbill_length_mm: Continuous numerical feature representing the length of the penguin’s bill (in millimeters).\n",
        "\t4.\tbill_depth_mm: Continuous numerical feature representing the depth of the penguin’s bill (in millimeters).\n",
        "\t5.\tflipper_length_mm: Continuous numerical feature representing the penguin’s flipper length (in millimeters).\n",
        "\t6.\tbody_mass_g: Continuous numerical feature representing the penguin’s body mass (in grams).\n",
        "\t7.\tsex: Categorical feature indicating the penguin’s sex (male or female), though some entries are missing.\n"
      ]
    },
    {
      "cell_type": "markdown",
      "metadata": {
        "id": "fkxc3wPW1hjR"
      },
      "source": [
        "1.\tUnderstand the Data:\n",
        "\t* The dataset is loaded from seaborn.\n",
        "\t* First few rows and data types are printed.\n",
        "\t* Missing values are checked.\n",
        "2.\tDetect and Address Outliers and Missing Values:\n",
        "\t* Visualizing missing values using a heatmap.\n",
        "  * Boxplots for detecting potential outliers.\n",
        "\t* Decide whether to drop or impute missing values.\n",
        "3.\tDescribe Shape of Data using Univariate Analysis:\n",
        "\t* Histograms for numerical variables to check distributions.\n",
        "\t* Count plots for categorical variables like species.\n",
        "4.\tIdentify Feature Relationships using Bivariate Analysis:\n",
        "\t* Scatter plots and pair plots to visualize relationships between numerical variables and categories.\n",
        "\t* Correlation matrix heatmap to examine the relationships between numerical variables.\n",
        "5.\tMultivariate Analysis:\n",
        "\t* Grouping box plots to compare flipper lengths across species and gender.\n"
      ]
    },
    {
      "cell_type": "code",
      "execution_count": 1,
      "metadata": {
        "colab": {
          "base_uri": "https://localhost:8080/",
          "height": 423
        },
        "id": "c8a0aoAJ1Kmf",
        "outputId": "2eb28ab5-3e15-445c-dfdb-c7bb2a64c2bf"
      },
      "outputs": [
        {
          "data": {
            "text/html": [
              "<div>\n",
              "<style scoped>\n",
              "    .dataframe tbody tr th:only-of-type {\n",
              "        vertical-align: middle;\n",
              "    }\n",
              "\n",
              "    .dataframe tbody tr th {\n",
              "        vertical-align: top;\n",
              "    }\n",
              "\n",
              "    .dataframe thead th {\n",
              "        text-align: right;\n",
              "    }\n",
              "</style>\n",
              "<table border=\"1\" class=\"dataframe\">\n",
              "  <thead>\n",
              "    <tr style=\"text-align: right;\">\n",
              "      <th></th>\n",
              "      <th>species</th>\n",
              "      <th>island</th>\n",
              "      <th>bill_length_mm</th>\n",
              "      <th>bill_depth_mm</th>\n",
              "      <th>flipper_length_mm</th>\n",
              "      <th>body_mass_g</th>\n",
              "      <th>sex</th>\n",
              "    </tr>\n",
              "  </thead>\n",
              "  <tbody>\n",
              "    <tr>\n",
              "      <th>0</th>\n",
              "      <td>Adelie</td>\n",
              "      <td>Torgersen</td>\n",
              "      <td>39.1</td>\n",
              "      <td>18.7</td>\n",
              "      <td>181.0</td>\n",
              "      <td>3750.0</td>\n",
              "      <td>Male</td>\n",
              "    </tr>\n",
              "    <tr>\n",
              "      <th>1</th>\n",
              "      <td>Adelie</td>\n",
              "      <td>Torgersen</td>\n",
              "      <td>39.5</td>\n",
              "      <td>17.4</td>\n",
              "      <td>186.0</td>\n",
              "      <td>3800.0</td>\n",
              "      <td>Female</td>\n",
              "    </tr>\n",
              "    <tr>\n",
              "      <th>2</th>\n",
              "      <td>Adelie</td>\n",
              "      <td>Torgersen</td>\n",
              "      <td>40.3</td>\n",
              "      <td>18.0</td>\n",
              "      <td>195.0</td>\n",
              "      <td>3250.0</td>\n",
              "      <td>Female</td>\n",
              "    </tr>\n",
              "    <tr>\n",
              "      <th>3</th>\n",
              "      <td>Adelie</td>\n",
              "      <td>Torgersen</td>\n",
              "      <td>NaN</td>\n",
              "      <td>NaN</td>\n",
              "      <td>NaN</td>\n",
              "      <td>NaN</td>\n",
              "      <td>NaN</td>\n",
              "    </tr>\n",
              "    <tr>\n",
              "      <th>4</th>\n",
              "      <td>Adelie</td>\n",
              "      <td>Torgersen</td>\n",
              "      <td>36.7</td>\n",
              "      <td>19.3</td>\n",
              "      <td>193.0</td>\n",
              "      <td>3450.0</td>\n",
              "      <td>Female</td>\n",
              "    </tr>\n",
              "    <tr>\n",
              "      <th>...</th>\n",
              "      <td>...</td>\n",
              "      <td>...</td>\n",
              "      <td>...</td>\n",
              "      <td>...</td>\n",
              "      <td>...</td>\n",
              "      <td>...</td>\n",
              "      <td>...</td>\n",
              "    </tr>\n",
              "    <tr>\n",
              "      <th>339</th>\n",
              "      <td>Gentoo</td>\n",
              "      <td>Biscoe</td>\n",
              "      <td>NaN</td>\n",
              "      <td>NaN</td>\n",
              "      <td>NaN</td>\n",
              "      <td>NaN</td>\n",
              "      <td>NaN</td>\n",
              "    </tr>\n",
              "    <tr>\n",
              "      <th>340</th>\n",
              "      <td>Gentoo</td>\n",
              "      <td>Biscoe</td>\n",
              "      <td>46.8</td>\n",
              "      <td>14.3</td>\n",
              "      <td>215.0</td>\n",
              "      <td>4850.0</td>\n",
              "      <td>Female</td>\n",
              "    </tr>\n",
              "    <tr>\n",
              "      <th>341</th>\n",
              "      <td>Gentoo</td>\n",
              "      <td>Biscoe</td>\n",
              "      <td>50.4</td>\n",
              "      <td>15.7</td>\n",
              "      <td>222.0</td>\n",
              "      <td>5750.0</td>\n",
              "      <td>Male</td>\n",
              "    </tr>\n",
              "    <tr>\n",
              "      <th>342</th>\n",
              "      <td>Gentoo</td>\n",
              "      <td>Biscoe</td>\n",
              "      <td>45.2</td>\n",
              "      <td>14.8</td>\n",
              "      <td>212.0</td>\n",
              "      <td>5200.0</td>\n",
              "      <td>Female</td>\n",
              "    </tr>\n",
              "    <tr>\n",
              "      <th>343</th>\n",
              "      <td>Gentoo</td>\n",
              "      <td>Biscoe</td>\n",
              "      <td>49.9</td>\n",
              "      <td>16.1</td>\n",
              "      <td>213.0</td>\n",
              "      <td>5400.0</td>\n",
              "      <td>Male</td>\n",
              "    </tr>\n",
              "  </tbody>\n",
              "</table>\n",
              "<p>344 rows × 7 columns</p>\n",
              "</div>"
            ],
            "text/plain": [
              "    species     island  bill_length_mm  bill_depth_mm  flipper_length_mm  \\\n",
              "0    Adelie  Torgersen            39.1           18.7              181.0   \n",
              "1    Adelie  Torgersen            39.5           17.4              186.0   \n",
              "2    Adelie  Torgersen            40.3           18.0              195.0   \n",
              "3    Adelie  Torgersen             NaN            NaN                NaN   \n",
              "4    Adelie  Torgersen            36.7           19.3              193.0   \n",
              "..      ...        ...             ...            ...                ...   \n",
              "339  Gentoo     Biscoe             NaN            NaN                NaN   \n",
              "340  Gentoo     Biscoe            46.8           14.3              215.0   \n",
              "341  Gentoo     Biscoe            50.4           15.7              222.0   \n",
              "342  Gentoo     Biscoe            45.2           14.8              212.0   \n",
              "343  Gentoo     Biscoe            49.9           16.1              213.0   \n",
              "\n",
              "     body_mass_g     sex  \n",
              "0         3750.0    Male  \n",
              "1         3800.0  Female  \n",
              "2         3250.0  Female  \n",
              "3            NaN     NaN  \n",
              "4         3450.0  Female  \n",
              "..           ...     ...  \n",
              "339          NaN     NaN  \n",
              "340       4850.0  Female  \n",
              "341       5750.0    Male  \n",
              "342       5200.0  Female  \n",
              "343       5400.0    Male  \n",
              "\n",
              "[344 rows x 7 columns]"
            ]
          },
          "execution_count": 1,
          "metadata": {},
          "output_type": "execute_result"
        }
      ],
      "source": [
        "# Importing necessary libraries\n",
        "import pandas as pd\n",
        "import seaborn as sns\n",
        "import matplotlib.pyplot as plt\n",
        "\n",
        "# Load the Palmer Penguins dataset from seaborn\n",
        "penguins = sns.load_dataset('penguins')\n",
        "\n",
        "# Display the first few rows of the dataset\n",
        "penguins"
      ]
    },
    {
      "cell_type": "code",
      "execution_count": null,
      "metadata": {
        "colab": {
          "base_uri": "https://localhost:8080/"
        },
        "id": "gviguItO3uwS",
        "outputId": "30526b7a-6b1c-4c22-ff4f-e146ede07ffc"
      },
      "outputs": [],
      "source": [
        "# Inspect data structure and data types\n",
        "print(\"\\nData Info:\")\n",
        "print(penguins.info())\n",
        "\n",
        "# Descriptive statistics for numerical columns\n",
        "print(\"\\nDescriptive Statistics:\")\n",
        "print(penguins.describe())\n"
      ]
    },
    {
      "cell_type": "code",
      "execution_count": null,
      "metadata": {
        "id": "6KO45OGvBuPu"
      },
      "outputs": [],
      "source": [
        "penguins.dtypes"
      ]
    },
    {
      "cell_type": "code",
      "execution_count": null,
      "metadata": {
        "colab": {
          "base_uri": "https://localhost:8080/"
        },
        "id": "MMyRhmr_3-of",
        "outputId": "3e18ef17-087b-4b02-a67d-aead2dc77698"
      },
      "outputs": [],
      "source": [
        "# Checking for missing values\n",
        "print(\"\\nMissing Values:\")\n",
        "print(penguins.isnull().sum())"
      ]
    },
    {
      "cell_type": "code",
      "execution_count": null,
      "metadata": {
        "colab": {
          "base_uri": "https://localhost:8080/",
          "height": 661
        },
        "id": "AZ6Gictn-bVY",
        "outputId": "44544391-6120-4010-91e6-6a6cc62efdbf"
      },
      "outputs": [],
      "source": [
        "# Visualize missing data using a heatmap\n",
        "plt.figure(figsize=(8, 6))\n",
        "sns.heatmap(penguins.isnull(), cbar=False, cmap='viridis')\n",
        "plt.title('Missing Values in the Dataset')\n",
        "plt.show()"
      ]
    },
    {
      "cell_type": "code",
      "execution_count": null,
      "metadata": {
        "colab": {
          "base_uri": "https://localhost:8080/",
          "height": 756
        },
        "id": "RBKoPjSm4EfU",
        "outputId": "17d3deba-aa0e-4b52-eb3d-14acc3587852"
      },
      "outputs": [],
      "source": [
        "# Univariate Analysis\n",
        "\n",
        "# Histogram for numerical variables\n",
        "penguins.hist(figsize=(10, 8), bins=20)\n",
        "plt.suptitle(\"Histograms of Numerical Features\")\n",
        "plt.show()"
      ]
    },
    {
      "cell_type": "code",
      "execution_count": null,
      "metadata": {},
      "outputs": [],
      "source": [
        "# Add grouped by hist plots\n",
        "fig, axes = plt.subplots(2, 2, figsize=(10, 8))\n",
        "\n",
        "features = ['bill_length_mm', 'bill_depth_mm', 'flipper_length_mm', 'body_mass_g']\n",
        "titles = ['Bill Length by Species', 'Bill Depth by Species', 'Flipper Length by Species', 'Body Mass by Species']\n",
        "\n",
        "for ax, feature, title in zip(axes.flatten(), features, titles):\n",
        "    sns.histplot(data=penguins, x=feature, hue='species', kde=True, ax=ax)\n",
        "    ax.set_title(title)\n",
        "\n",
        "plt.tight_layout()\n",
        "plt.show()\n"
      ]
    },
    {
      "cell_type": "code",
      "execution_count": null,
      "metadata": {
        "colab": {
          "base_uri": "https://localhost:8080/"
        },
        "id": "YtIQxzFj9UT6",
        "outputId": "cac54ced-aa5a-4658-a61c-96ca04fa8bfa"
      },
      "outputs": [],
      "source": [
        "penguins.columns"
      ]
    },
    {
      "cell_type": "code",
      "execution_count": null,
      "metadata": {
        "colab": {
          "base_uri": "https://localhost:8080/",
          "height": 206
        },
        "id": "Jie1e1gH95Pi",
        "outputId": "93c2d3a3-9403-4476-8141-e77b7d097f16"
      },
      "outputs": [],
      "source": [
        "data2 = penguins.drop('body_mass_g', axis=1)\n",
        "data2.head()"
      ]
    },
    {
      "cell_type": "code",
      "execution_count": null,
      "metadata": {
        "colab": {
          "base_uri": "https://localhost:8080/",
          "height": 678
        },
        "id": "FvMUJb65-te4",
        "outputId": "915c0c40-0668-42b4-e77d-5af690a41c17"
      },
      "outputs": [],
      "source": [
        "# Boxplots for detecting outliers\n",
        "plt.figure(figsize=(10, 6))\n",
        "data2 = penguins.drop('body_mass_g', axis=1)\n",
        "sns.boxplot(data=data2.dropna())\n",
        "plt.title('Boxplots of Numerical Features')\n",
        "plt.xticks(rotation=45)\n",
        "plt.show()"
      ]
    },
    {
      "cell_type": "code",
      "execution_count": null,
      "metadata": {
        "colab": {
          "base_uri": "https://localhost:8080/",
          "height": 564
        },
        "id": "s9p50HdZ-wJq",
        "outputId": "9f43c30c-2fa5-4e11-e24f-b17003da74c6"
      },
      "outputs": [],
      "source": [
        "# Count plot for categorical variables\n",
        "plt.figure(figsize=(10, 6))\n",
        "sns.countplot(x='species', hue='species', data=penguins)\n",
        "plt.title('Count of Penguin Species')\n",
        "plt.show()"
      ]
    },
    {
      "cell_type": "code",
      "execution_count": null,
      "metadata": {
        "colab": {
          "base_uri": "https://localhost:8080/",
          "height": 206
        },
        "id": "X-ESi4zWFTLC",
        "outputId": "04bcfb7e-8e7a-43d9-a64e-cc5830a348de"
      },
      "outputs": [],
      "source": [
        "# Calculate descriptive statistics by species\n",
        "penguins[[\"bill_length_mm\", \"species\"]].groupby(by=\"species\").describe()"
      ]
    },
    {
      "cell_type": "code",
      "execution_count": null,
      "metadata": {
        "colab": {
          "base_uri": "https://localhost:8080/",
          "height": 1000
        },
        "id": "nKkrXy-p4L8G",
        "outputId": "61a8a6bf-2781-4881-e434-5aeee3b5bfec"
      },
      "outputs": [],
      "source": [
        "# Bivariate Analysis\n",
        "\n",
        "# Pairplot of numerical variables colored by species\n",
        "plt.rcParams.update({'font.size': 14})\n",
        "sns.pairplot(penguins.dropna(), hue='species', markers=[\"o\", \"s\", \"D\"])\n",
        "plt.suptitle('Pairplot of Numerical Features by Species', y=1.02)\n",
        "plt.show()"
      ]
    },
    {
      "cell_type": "code",
      "execution_count": null,
      "metadata": {
        "colab": {
          "base_uri": "https://localhost:8080/",
          "height": 997
        },
        "id": "hk0BvxXkD4gL",
        "outputId": "cf91e0b9-8fc3-4bb0-c7de-61944a90861b"
      },
      "outputs": [],
      "source": [
        "# Does island affect the relationships?\n",
        "plt.rcParams.update({'font.size': 14})\n",
        "p = sns.pairplot(penguins, hue='island', markers=['o', 's', 'v'])\n",
        "plt.show()"
      ]
    },
    {
      "cell_type": "code",
      "execution_count": null,
      "metadata": {
        "colab": {
          "base_uri": "https://localhost:8080/",
          "height": 460
        },
        "id": "KkEu_YQgEJwF",
        "outputId": "16dc7853-e74f-4f94-bf5c-7cd4984ad407"
      },
      "outputs": [],
      "source": [
        "# Combine sex and species in a single scatterplot\n",
        "p = sns.scatterplot(\n",
        "    data=penguins, x='bill_length_mm', y='body_mass_g', hue='species', style='sex'\n",
        ")\n",
        "plt.legend(loc=2, prop={'size': 10})  # Adjust the location of the legend to upper left corner and font size to 10\n",
        "plt.show()"
      ]
    },
    {
      "cell_type": "code",
      "execution_count": null,
      "metadata": {
        "id": "RMNfi1A5Et6S"
      },
      "outputs": [],
      "source": [
        "# Contingency table for species and sex\n",
        "pd.crosstab(index=penguins['species'], columns=penguins['sex'])"
      ]
    },
    {
      "cell_type": "code",
      "execution_count": null,
      "metadata": {
        "id": "G0AblO5a_OBs"
      },
      "outputs": [],
      "source": [
        "# Scatter plot of bill_length_mm vs bill_depth_mm\n",
        "plt.figure(figsize=(8, 6))\n",
        "sns.scatterplot(x='bill_length_mm', y='bill_depth_mm', hue='species', data=penguins)\n",
        "plt.title('Bill Length vs Bill Depth')\n",
        "plt.show()"
      ]
    },
    {
      "cell_type": "code",
      "execution_count": null,
      "metadata": {
        "id": "a-XhNDgzFANq"
      },
      "outputs": [],
      "source": [
        "# Distribution of bill length by species\n",
        "p = sns.histplot(data=penguins, x='bill_length_mm', hue='species')\n",
        "p.set_xlabel('Bill length (mm)', fontsize=14)\n",
        "p.set_ylabel('Count', fontsize=14)\n",
        "plt.show()"
      ]
    },
    {
      "cell_type": "code",
      "execution_count": null,
      "metadata": {
        "id": "KkmWkblmFHUv"
      },
      "outputs": [],
      "source": [
        "# Distribution of bill length by species\n",
        "p = sns.kdeplot(data=penguins, x='bill_length_mm', hue='species', linewidth=2)\n",
        "p.set_xlabel('Bill length (mm)', fontsize=14)\n",
        "p.set_ylabel('Density', fontsize=14)\n",
        "plt.show()"
      ]
    },
    {
      "cell_type": "code",
      "execution_count": null,
      "metadata": {
        "colab": {
          "base_uri": "https://localhost:8080/",
          "height": 717
        },
        "id": "snmFLmlK_QnR",
        "outputId": "fc20c0f4-fa5f-4fbc-d285-a00c95bcbdeb"
      },
      "outputs": [],
      "source": [
        "# Correlation Heatmap\n",
        "plt.figure(figsize=(10, 6))\n",
        "sns.heatmap(penguins.corr(numeric_only=True), annot=True, cmap='coolwarm', fmt='.2f')\n",
        "plt.title('Correlation Heatmap of Numerical Variables')\n",
        "plt.show()"
      ]
    },
    {
      "cell_type": "code",
      "execution_count": null,
      "metadata": {
        "colab": {
          "base_uri": "https://localhost:8080/",
          "height": 578
        },
        "id": "EqYc3omU4QYh",
        "outputId": "149a17e8-9104-4aad-c7a8-05e95a17cd4e"
      },
      "outputs": [],
      "source": [
        "# Multivariate Analysis\n",
        "\n",
        "# Boxplot of flipper length by species and sex\n",
        "plt.figure(figsize=(10, 6))\n",
        "sns.boxplot(x='species', y='flipper_length_mm', hue='sex', data=penguins)\n",
        "plt.title('Flipper Length by Species and Sex')\n",
        "plt.show()"
      ]
    },
    {
      "cell_type": "code",
      "execution_count": null,
      "metadata": {
        "id": "j4yYWN8C4cPJ"
      },
      "outputs": [],
      "source": [
        "# Handling Missing Data (if needed)\n",
        "\n",
        "# Strategy 1: Drop rows with missing values\n",
        "penguins_cleaned = penguins.dropna()\n",
        "print(f\"\\nShape of data after dropping missing values: {penguins_cleaned.shape}\")"
      ]
    },
    {
      "cell_type": "code",
      "execution_count": null,
      "metadata": {
        "id": "soM-h9O1AVcw"
      },
      "outputs": [],
      "source": [
        "# Strategy 2: Fill missing values (Example: filling with mean)\n",
        "penguins_filled = penguins.fillna(penguins.mean(numeric_only=True))\n",
        "print(f\"\\nMissing values after filling numeric NaNs with mean:\\n{penguins_filled.isnull().sum()}\")\n"
      ]
    },
    {
      "cell_type": "code",
      "execution_count": null,
      "metadata": {
        "id": "D50-L7Ud4fy5"
      },
      "outputs": [],
      "source": [
        "# Count plot for the \"island\" feature\n",
        "plt.figure(figsize=(8, 6))\n",
        "sns.countplot(x='island', hue='island', data=penguins)\n",
        "plt.title('Count of Penguins by Island')\n",
        "plt.show()\n"
      ]
    },
    {
      "cell_type": "code",
      "execution_count": null,
      "metadata": {
        "id": "4FfoQwuMAcJb"
      },
      "outputs": [],
      "source": []
    }
  ],
  "metadata": {
    "colab": {
      "provenance": []
    },
    "kernelspec": {
      "display_name": "Python 3",
      "language": "python",
      "name": "python3"
    },
    "language_info": {
      "codemirror_mode": {
        "name": "ipython",
        "version": 3
      },
      "file_extension": ".py",
      "mimetype": "text/x-python",
      "name": "python",
      "nbconvert_exporter": "python",
      "pygments_lexer": "ipython3",
      "version": "3.12.5"
    }
  },
  "nbformat": 4,
  "nbformat_minor": 0
}
