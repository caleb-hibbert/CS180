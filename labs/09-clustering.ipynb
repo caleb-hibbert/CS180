{
 "cells": [
  {
   "cell_type": "markdown",
   "metadata": {},
   "source": [
    "<a href=\"https://colab.research.google.com/github/rhodes-byu/cs180-winter25/blob/main/labs/09-clustering.ipynb\" target=\"_parent\"><img src=\"https://colab.research.google.com/assets/colab-badge.svg\" alt=\"Open In Colab\"/></a><p><b>After clicking the \"Open in Colab\" link, copy the notebook to your own Google Drive before getting started, or it will not save your work</b></p>"
   ]
  },
  {
   "cell_type": "markdown",
   "metadata": {},
   "source": [
    "One of the most straightforward tasks we can perform on a data set without labels is to find groups of data in our dataset which are similar to one another -- what we call clusters.\n",
    "\n",
    "K-Means is one of the most popular \"clustering\" algorithms. K-means stores k centroids that it uses to define clusters. A point is considered to be in a particular cluster if it is closer to that cluster's centroid than any other centroid.\n",
    "\n",
    "K-Means finds the best centroids by alternating between (1) assigning data points to clusters based on the current centroids (2) chosing centroids (points which are the center of a cluster) based on the current assignment of data points to clusters."
   ]
  },
  {
   "cell_type": "markdown",
   "metadata": {
    "vscode": {
     "languageId": "plaintext"
    }
   },
   "source": [
    "## Dataset: MNIST"
   ]
  },
  {
   "cell_type": "markdown",
   "metadata": {
    "vscode": {
     "languageId": "plaintext"
    }
   },
   "source": [
    "### MNIST Dataset: A Brief Overview\n",
    "\n",
    "#### Introduction\n",
    "The **MNIST (Modified National Institute of Standards and Technology) dataset** is one of the most widely used datasets in machine learning, particularly for benchmarking image classification algorithms.\n",
    "\n",
    "#### Description\n",
    "- **Type**: Handwritten digit dataset\n",
    "- **Size**: 70,000 grayscale images (28x28 pixels)\n",
    "  - **Training set**: 60,000 images\n",
    "  - **Test set**: 10,000 images\n",
    "- **Classes**: 10 (Digits 0-9)\n",
    "- **Format**: Each image is a 28×28 matrix with pixel values ranging from 0 (black) to 255 (white).\n",
    "\n",
    "#### Why MNIST?\n",
    "- Simple yet challenging enough for ML research.\n",
    "- Well-structured and preprocessed, eliminating the need for extensive data cleaning.\n",
    "\n",
    "#### Accessing MNIST\n",
    "- Available in popular ML libraries:\n",
    "  - **TensorFlow/Keras**: `tf.keras.datasets.mnist`\n",
    "  - **PyTorch**: `torchvision.datasets.MNIST`\n",
    "  - **Scikit-learn**: `fetch_openml('mnist_784')`\n"
   ]
  },
  {
   "cell_type": "code",
   "execution_count": 1,
   "metadata": {},
   "outputs": [],
   "source": [
    "from sklearn.datasets import fetch_openml\n",
    "import numpy as np\n",
    "import pandas as pd\n",
    "import matplotlib.pyplot as plt\n",
    "import scipy.cluster.hierarchy as sch\n",
    "from sklearn.cluster import KMeans, AgglomerativeClustering, DBSCAN\n",
    "from sklearn.metrics import silhouette_score\n",
    "from sklearn.metrics import adjusted_rand_score\n",
    "from sklearn.manifold import TSNE"
   ]
  },
  {
   "cell_type": "code",
   "execution_count": 2,
   "metadata": {},
   "outputs": [],
   "source": [
    "# Load MNIST dataset\n",
    "mnist = fetch_openml('mnist_784', version = 1, parser = 'auto')\n",
    "X, y = mnist['data'], mnist['target']\n",
    "\n",
    "np.random.seed(42)"
   ]
  },
  {
   "cell_type": "markdown",
   "metadata": {},
   "source": [
    "The MNIST digits in this set are flattened arrays of 784 pixels. We can reshape them to 28x28 pixels and plot them using matplotlib."
   ]
  },
  {
   "cell_type": "code",
   "execution_count": 5,
   "metadata": {},
   "outputs": [
    {
     "data": {
      "text/plain": [
       "<matplotlib.image.AxesImage at 0x212051a6ad0>"
      ]
     },
     "execution_count": 5,
     "metadata": {},
     "output_type": "execute_result"
    },
    {
     "data": {
      "image/png": "[encoded data removed]",
      "text/plain": [
       "<Figure size 640x480 with 1 Axes>"
      ]
     },
     "metadata": {},
     "output_type": "display_data"
    }
   ],
   "source": [
    "image = X.iloc[0, :].values.reshape((28, 28))\n",
    "plt.imshow(image)"
   ]
  },
  {
   "cell_type": "markdown",
   "metadata": {},
   "source": [
    "### 1. Preparing the Data\n",
    "\n",
    "a. Using the full dataset, *normalize* each column so that the minimum column value is 0, and the maximum is 1.\n",
    "    (Hint: if your normalization process leads to missing values, replace these with 0!)\n",
    "\n",
    "b. Get a random sample of 10% of the data. The full dataset may take a while to run some of the below methods."
   ]
  },
  {
   "cell_type": "code",
   "execution_count": 27,
   "metadata": {},
   "outputs": [
    {
     "name": "stdout",
     "output_type": "stream",
     "text": [
      "       pixel1  pixel2  pixel3  pixel4  pixel5  pixel6  pixel7  pixel8  pixel9  \\\n",
      "0         NaN       0       0       0       0       0       0       0       0   \n",
      "1         NaN       0       0       0       0       0       0       0       0   \n",
      "2         NaN       0       0       0       0       0       0       0       0   \n",
      "3         NaN       0       0       0       0       0       0       0       0   \n",
      "4         NaN       0       0       0       0       0       0       0       0   \n",
      "...       ...     ...     ...     ...     ...     ...     ...     ...     ...   \n",
      "69995     NaN       0       0       0       0       0       0       0       0   \n",
      "69996     NaN       0       0       0       0       0       0       0       0   \n",
      "69997     NaN       0       0       0       0       0       0       0       0   \n",
      "69998     NaN       0       0       0       0       0       0       0       0   \n",
      "69999     NaN       0       0       0       0       0       0       0       0   \n",
      "\n",
      "       pixel10  ...  pixel775  pixel776  pixel777  pixel778  pixel779  \\\n",
      "0            0  ...         0         0         0         0         0   \n",
      "1            0  ...         0         0         0         0         0   \n",
      "2            0  ...         0         0         0         0         0   \n",
      "3            0  ...         0         0         0         0         0   \n",
      "4            0  ...         0         0         0         0         0   \n",
      "...        ...  ...       ...       ...       ...       ...       ...   \n",
      "69995        0  ...         0         0         0         0         0   \n",
      "69996        0  ...         0         0         0         0         0   \n",
      "69997        0  ...         0         0         0         0         0   \n",
      "69998        0  ...         0         0         0         0         0   \n",
      "69999        0  ...         0         0         0         0         0   \n",
      "\n",
      "       pixel780  pixel781  pixel782  pixel783  pixel784  \n",
      "0             0         0         0         0         0  \n",
      "1             0         0         0         0         0  \n",
      "2             0         0         0         0         0  \n",
      "3             0         0         0         0         0  \n",
      "4             0         0         0         0         0  \n",
      "...         ...       ...       ...       ...       ...  \n",
      "69995         0         0         0         0         0  \n",
      "69996         0         0         0         0         0  \n",
      "69997         0         0         0         0         0  \n",
      "69998         0         0         0         0         0  \n",
      "69999         0         0         0         0         0  \n",
      "\n",
      "[70000 rows x 784 columns]\n",
      "      pixel1  pixel2  pixel3  pixel4  pixel5  pixel6  pixel7  pixel8  pixel9  \\\n",
      "0       None     NaN     NaN     NaN     NaN     NaN     NaN     NaN     NaN   \n",
      "1       None     NaN     NaN     NaN     NaN     NaN     NaN     NaN     NaN   \n",
      "2       None     NaN     NaN     NaN     NaN     NaN     NaN     NaN     NaN   \n",
      "3       None     NaN     NaN     NaN     NaN     NaN     NaN     NaN     NaN   \n",
      "4       None     NaN     NaN     NaN     NaN     NaN     NaN     NaN     NaN   \n",
      "...      ...     ...     ...     ...     ...     ...     ...     ...     ...   \n",
      "69995   None     NaN     NaN     NaN     NaN     NaN     NaN     NaN     NaN   \n",
      "69996   None     NaN     NaN     NaN     NaN     NaN     NaN     NaN     NaN   \n",
      "69997   None     NaN     NaN     NaN     NaN     NaN     NaN     NaN     NaN   \n",
      "69998   None     NaN     NaN     NaN     NaN     NaN     NaN     NaN     NaN   \n",
      "69999   None     NaN     NaN     NaN     NaN     NaN     NaN     NaN     NaN   \n",
      "\n",
      "       pixel10  ...  pixel775  pixel776  pixel777  pixel778  pixel779  \\\n",
      "0          NaN  ...       0.0       0.0       0.0       0.0       0.0   \n",
      "1          NaN  ...       0.0       0.0       0.0       0.0       0.0   \n",
      "2          NaN  ...       0.0       0.0       0.0       0.0       0.0   \n",
      "3          NaN  ...       0.0       0.0       0.0       0.0       0.0   \n",
      "4          NaN  ...       0.0       0.0       0.0       0.0       0.0   \n",
      "...        ...  ...       ...       ...       ...       ...       ...   \n",
      "69995      NaN  ...       0.0       0.0       0.0       0.0       0.0   \n",
      "69996      NaN  ...       0.0       0.0       0.0       0.0       0.0   \n",
      "69997      NaN  ...       0.0       0.0       0.0       0.0       0.0   \n",
      "69998      NaN  ...       0.0       0.0       0.0       0.0       0.0   \n",
      "69999      NaN  ...       0.0       0.0       0.0       0.0       0.0   \n",
      "\n",
      "       pixel780  pixel781  pixel782  pixel783  pixel784  \n",
      "0           0.0       NaN       NaN       NaN       NaN  \n",
      "1           0.0       NaN       NaN       NaN       NaN  \n",
      "2           0.0       NaN       NaN       NaN       NaN  \n",
      "3           0.0       NaN       NaN       NaN       NaN  \n",
      "4           0.0       NaN       NaN       NaN       NaN  \n",
      "...         ...       ...       ...       ...       ...  \n",
      "69995       0.0       NaN       NaN       NaN       NaN  \n",
      "69996       0.0       NaN       NaN       NaN       NaN  \n",
      "69997       0.0       NaN       NaN       NaN       NaN  \n",
      "69998       0.0       NaN       NaN       NaN       NaN  \n",
      "69999       0.0       NaN       NaN       NaN       NaN  \n",
      "\n",
      "[70000 rows x 784 columns]\n"
     ]
    },
    {
     "name": "stderr",
     "output_type": "stream",
     "text": [
      "C:\\Users\\caleb\\AppData\\Local\\Temp\\ipykernel_7392\\1428191224.py:5: FutureWarning: A value is trying to be set on a copy of a DataFrame or Series through chained assignment using an inplace method.\n",
      "The behavior will change in pandas 3.0. This inplace method will never work because the intermediate object on which we are setting values always behaves as a copy.\n",
      "\n",
      "For example, when doing 'df[col].method(value, inplace=True)', try using 'df.method({col: value}, inplace=True)' or df[col] = df[col].method(value) instead, to perform the operation inplace on the original object.\n",
      "\n",
      "\n",
      "  normalized_df[\"pixel1\"] = normalized_df[\"pixel1\"].fillna(0, inplace = True)\n"
     ]
    }
   ],
   "source": [
    "# a.\n",
    "df = X\n",
    "print(df)\n",
    "normalized_df = (df-df.min())/(df.max()-df.min())\n",
    "normalized_df[\"pixel1\"] = normalized_df[\"pixel1\"].fillna(0, inplace = True)\n",
    "print(normalized_df)"
   ]
  },
  {
   "cell_type": "code",
   "execution_count": 7,
   "metadata": {},
   "outputs": [],
   "source": [
    "# b."
   ]
  },
  {
   "cell_type": "markdown",
   "metadata": {},
   "source": [
    "### 2. K-Means Clustering\n",
    "\n",
    "a. Using the MNIST subset, determine the optimal k value for k-means according to the silhouette score. Use a range of k-values from 2 - 12. \n",
    "\n",
    "b. Fit a k-means model with the optimal k value.\n",
    "\n",
    "c. Using a dimensionality reduction method, $t$-SNE, generate a two-dimensional representation (called an **embedding**)of the MNIST subset. (See an example [here](https://scikit-learn.org/0.16/modules/generated/sklearn.manifold.TSNE.html). Use default values, but setting random_state = 42.)\n",
    "\n",
    "d. Create two side-by-side scatterplots using the $t$-SNE represenation using plt.subplots. Color the first fig according to the true labels and the second according to k-means cluster labels. Be sure to include proper figure titles and a legend.\n",
    "\n",
    "e. Describe the fit. Does this align with your expectation, given the silhouette score?\n",
    "\n",
    "f. Fit k-means with 10 clusters and calculate ten slihouette score. How does the slihouette score compare with the optimal k? (If 10 is optimal, just say so.)"
   ]
  },
  {
   "cell_type": "code",
   "execution_count": null,
   "metadata": {},
   "outputs": [],
   "source": [
    "# a."
   ]
  },
  {
   "cell_type": "code",
   "execution_count": null,
   "metadata": {},
   "outputs": [],
   "source": [
    "# b."
   ]
  },
  {
   "cell_type": "code",
   "execution_count": null,
   "metadata": {},
   "outputs": [],
   "source": [
    "# c."
   ]
  },
  {
   "cell_type": "code",
   "execution_count": null,
   "metadata": {},
   "outputs": [],
   "source": [
    "# d."
   ]
  },
  {
   "cell_type": "markdown",
   "metadata": {},
   "source": [
    "Part e comments here:"
   ]
  },
  {
   "cell_type": "code",
   "execution_count": null,
   "metadata": {},
   "outputs": [],
   "source": [
    "# f."
   ]
  },
  {
   "cell_type": "markdown",
   "metadata": {},
   "source": [
    "f. comments here:"
   ]
  },
  {
   "cell_type": "markdown",
   "metadata": {},
   "source": [
    "### 3. Hierarchical Clustering\n",
    "Here you will be performing hierarchical clustering on the same data subset.\n",
    "\n",
    "Here you will be comparing linkage methods and metrics. Use the following linkage/metric combinations:\n",
    "\n",
    "| Linkage Method | Metrics              |\n",
    "|---------------|----------------------|\n",
    "| Ward         | Euclidean            |\n",
    "| Single       | Euclidean, Cosine, Manhattan |\n",
    "| Complete     | Euclidean, Cosine, Manhattan |\n",
    "| Average      | Euclidean, Cosine, Manhattan |\n",
    "\n",
    "a. Fit hierarhiccal clustering with 10 clusters for each combination and store the silhouette scores. \n",
    "\n",
    "b. According to the silhouette scores, which combination is optimal? Fit an HC model with this combination and store the cluster labels (make these a different variable name from that used for your k-means labels; we will eventually be comparing all clustering models).\n",
    "\n",
    "c. As in part 2. d., plot side-by-side scatterplots using the same $t$-SNE embedding.\n",
    "\n",
    "d. Describe the fit. Does this align with your expectation, given the silhouette score?\n"
   ]
  },
  {
   "cell_type": "code",
   "execution_count": null,
   "metadata": {},
   "outputs": [],
   "source": [
    "# a."
   ]
  },
  {
   "cell_type": "code",
   "execution_count": null,
   "metadata": {},
   "outputs": [],
   "source": [
    "# b."
   ]
  },
  {
   "cell_type": "code",
   "execution_count": null,
   "metadata": {},
   "outputs": [],
   "source": [
    "# c."
   ]
  },
  {
   "cell_type": "markdown",
   "metadata": {},
   "source": [
    "Part d comments here:"
   ]
  },
  {
   "cell_type": "markdown",
   "metadata": {},
   "source": [
    "### 4. DBSCAN Clustering\n",
    "\n",
    "DBSCAN can be a little tricky to tune due to its two hyperparameters, `eps` and `min_samples`. The `eps` parameter is the maximum distance between two samples for one to be considered as in the neighborhood of the other. The `min_samples` parameter is the number of samples in a neighborhood for a point to be considered as a core point. Here, we will attempt to find optimal hyperparameter combinations, focusing primarily on `eps`.\n",
    "\n",
    "a. Setting `min_samples`\n",
    "A rule of thumb is to set `min_samples` to be the number of dimensions (columns) in the dataset plus one. Here, you will try two different values:\n",
    "   1. Follow the rule of thumb.\n",
    "   2. Set `min_samples` to the number of observations in the sample divided by 10 (roughly equal numbers per digit label).\n",
    "\n",
    "For each `min_samples` value **k** (both cases):\n",
    "   - i. Calculate the distance between every data point and its **kth closest neighbor**.  \n",
    "   - ii. Compute the average **kth nearest neighbor** distances (for both `min_samples` values).  \n",
    "   - iii. Compute the standard deviation of the **kth nearest neighbor** distances (for both `min_samples` values).  \n",
    "   - iv. Generate a set of 10 `eps` values equally spaced between **mean ± standard deviation** (for each `min_samples` value).  \n",
    "\n",
    "b. Using the sets of `min_samples` and `eps` values, apply DBSCAN and record all silhouette scores.\n",
    "\n",
    "c. Fit DBSCAN using the best hyperparameters based on the silhouette scores.\n",
    "\n",
    "d. Plot the $t$-SNE embedded values using subplots:\n",
    "   - One colored by **true labels**.\n",
    "   - Another colored by **cluster labels**.\n",
    "\n",
    "e. Describe the clustering results and comment on your findings.\n"
   ]
  },
  {
   "cell_type": "code",
   "execution_count": null,
   "metadata": {},
   "outputs": [],
   "source": [
    "# a."
   ]
  },
  {
   "cell_type": "code",
   "execution_count": null,
   "metadata": {},
   "outputs": [],
   "source": [
    "# b."
   ]
  },
  {
   "cell_type": "code",
   "execution_count": null,
   "metadata": {},
   "outputs": [],
   "source": [
    "# c."
   ]
  },
  {
   "cell_type": "code",
   "execution_count": null,
   "metadata": {},
   "outputs": [],
   "source": [
    "# d."
   ]
  },
  {
   "cell_type": "markdown",
   "metadata": {},
   "source": [
    "Part e comments here:"
   ]
  },
  {
   "cell_type": "markdown",
   "metadata": {},
   "source": [
    "### 5. Adjusted Rand Index (ARI) in Clustering\n",
    "\n",
    "The **Adjusted Rand Index (ARI)** is a metric used to evaluate the similarity between two clusterings, accounting for chance. It measures how well a clustering algorithm’s results match a known ground truth or reference clustering.\n",
    "\n",
    "#### **Intuition**\n",
    "- Suppose you have a set of data points, and you classify them into groups (clusters).\n",
    "- ARI compares your clustering to a \"correct\" classification and checks how often pairs of points are **correctly grouped together** or **correctly separated** in both cases.\n",
    "- A simple **Rand Index** gives a raw similarity score, but ARI adjusts for randomness—ensuring that random assignments don’t get an artificially high score.\n",
    "\n",
    "#### **How It's Used**\n",
    "- **Benchmarking Clustering Algorithms:** ARI is useful for comparing different clustering methods to a gold-standard classification.\n",
    "- **No Bias Toward Number of Clusters:** Unlike some other metrics, ARI corrects for the number of clusters, making it more reliable when clusters differ in size or number.\n",
    "\n",
    "#### **Interpreting Results**\n",
    "- **Range:** ARI ranges from **-1 to 1**.  \n",
    "  - **1** = Perfect agreement with ground truth  \n",
    "  - **0** = Random clustering  \n",
    "  - **Negative values** = Worse than random (unlikely in practice)  \n",
    "- **Application:** Used in cases like image segmentation, document clustering, or biological data grouping, where a reference classification exists.\n",
    "\n",
    "### **Python Implementation**\n",
    "- **Import** via sklearn.metrics (the function `adjusted_rand_score`)\n",
    "- **Inputs**: True Labels, Predicted Labels (E.g., cluster labels)\n",
    "- **Output**: The Adjusted Rand Index Value\n",
    "\n",
    "\n",
    "### **Questions**:\n",
    "\n",
    "a. For each clustering method (k-means, hierarchical clustering, DBSCAN), calculate the adjusted rand index using the models with optimal hyperparameters.\n",
    "\n",
    "b. Plot all four scatterplots using subplots (1 row, 4 columns). The first colored by the true values, and the rest colored by your cluster labels (k-means, HC, DBSCAN).\n",
    "\n",
    "c. Do the scores seem reflecive of the assigned cluster labels, according to the plots?  Please explain."
   ]
  },
  {
   "cell_type": "code",
   "execution_count": null,
   "metadata": {},
   "outputs": [],
   "source": [
    "# a."
   ]
  },
  {
   "cell_type": "code",
   "execution_count": null,
   "metadata": {},
   "outputs": [],
   "source": [
    "# b."
   ]
  },
  {
   "cell_type": "markdown",
   "metadata": {},
   "source": [
    "Part c comments here:"
   ]
  },
  {
   "cell_type": "markdown",
   "metadata": {},
   "source": [
    "### 6. Visualizing Clustered Digits"
   ]
  },
  {
   "cell_type": "markdown",
   "metadata": {},
   "source": [
    "Pick one of the cluster labels from one of the clustering methods (your choice). Select a random subset of 20 points belonging to that cluster.  \n",
    "\n",
    "a. Using subplots (5 rows, 4 columns), plot the 20 digit images.  \n",
    "b. Comment on the clustered points (e.g., do they look similar?, are the representing the same digit?, etc.)"
   ]
  },
  {
   "cell_type": "code",
   "execution_count": null,
   "metadata": {},
   "outputs": [],
   "source": [
    "# a. "
   ]
  },
  {
   "cell_type": "markdown",
   "metadata": {},
   "source": [
    "Part b comments here:"
   ]
  }
 ],
 "metadata": {
  "kernelspec": {
   "display_name": "Python 3",
   "language": "python",
   "name": "python3"
  },
  "language_info": {
   "codemirror_mode": {
    "name": "ipython",
    "version": 3
   },
   "file_extension": ".py",
   "mimetype": "text/x-python",
   "name": "python",
   "nbconvert_exporter": "python",
   "pygments_lexer": "ipython3",
   "version": "3.13.2"
  }
 },
 "nbformat": 4,
 "nbformat_minor": 2
}
