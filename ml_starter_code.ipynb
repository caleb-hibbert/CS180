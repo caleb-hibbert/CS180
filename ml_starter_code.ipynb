{
 "cells": [
  {
   "cell_type": "code",
   "execution_count": 7,
   "metadata": {},
   "outputs": [],
   "source": [
    "import numpy as np\n",
    "from sklearn.model_selection import train_test_split\n",
    "from sklearn.ensemble import RandomForestClassifier\n",
    "from sklearn.neighbors import KNeighborsClassifier\n",
    "from sklearn.linear_model import LogisticRegression\n",
    "from sklearn.neural_network import MLPClassifier"
   ]
  },
  {
   "cell_type": "code",
   "execution_count": 8,
   "metadata": {},
   "outputs": [],
   "source": [
    "# The fields show the original variable names alongside their aliases and category meanings.\n",
    "\n",
    "fields = {\n",
    "\n",
    "    # Basic demographic variables\n",
    "    'V161342': 'gender', # 1:'male',2:'female'\n",
    "    'V161310x':'race',  # 1:'white',2:'black',3:'asian',5:'hispanic'\n",
    "    'V161267': 'age',  # age in years, negative numbers indicate missing data\n",
    "    'V161270': 'education', # 1-9 high school; 10-12 some college; 13 bachelors; 14-16 advanced degree\n",
    "    'V161244': 'church_goer', # 1:'yes',2:'no'\n",
    "    'V162125x':'patriotism', # how does seeing the flag make you feel? 1:\"extremely good\", 2:\"moderately good\", 3:\"a little good\", 4:\"neither good nor bad\", 5:\"a little bad\", 6:\"moderately bad\", 7:\"extremely bad\"\n",
    "    'V161112': 'health_insurance', #  Does R have health insurance? 1:yes, 2:no\n",
    "\n",
    "    # Political activity and party affiliation\n",
    "    'V162174': 'discuss_politics', # 1:'yes',2:'no'\n",
    "    'V162256': 'political_interest', # how interested in politics? 1:\"very interested\", 2:\"somewhat interested\", 3:\"not very interested\", 4:\"not at all interested\"\n",
    "    'V161126': 'ideology', # 1:\"extremely liberal\", 2:\"liberal\", 3:\"slightly liberal\", 4:\"moderate\", 5:\"slightly conservative\", 6:\"conservative\", 7:\"extremely conservative\"\n",
    "    'V161155': 'pid3', # 1:'Democrat',2:'Republican',3:'Independent'\n",
    "    'V161158x': 'pid7', # 1:\"strong democrat\", 2:\"not very strong democrat\", 3:\"independent, but closer to the Democratic party\", 4:\"independent\", 5:\"independent, but closer to the Republican party\", 6:\"not very strong Republican\", 7:\"strong Republican\"\n",
    "    'V162031x': 'voted', # did you vote in 2016? 0:'no',1:'yes'\n",
    "    'V162062x': 'votechoice', # 1:\"Hillary Clinton\", 2:\"Donald Trump\", 3:\"Gary Johnson\", 4:\"Jill Stein\", 5:\"Other\"\n",
    "\n",
    "    # Views on select issues\n",
    "    'V162255': 'obama_muslim', #  is obama a muslim? 1:\"yes\",2:\"no\"\n",
    "    'V161221': 'climate_change', # is global warming happening or not? 1:yes, 2:no\n",
    "    'V161222': 'cc_caused_by_man', # assuming it's happening, is it caused by humans? 1:mostly human, 2: mostly natural, 3:equally by people and nature\n",
    "    'V161227': 'same_sex_wedding', # Do you think business owners who provide wedding-related services should be allowed to refuse services to same-sex couples if same-sex marriage violates their religious beliefs, or do you think business owners should be required to provide services regardless of a couple’s sexual orientation? 1:should be allowed to refuse, 2:should be required to provide services\n",
    "    'V161139': 'econ_health', #  Current economy good or bad? 1: very good ... 5: very bad\n",
    "    'V161193': 'birthright_citizenship', #  Favor or oppose ending birthright citizenship? 1: favor, 2:oppose, 3:neither\n",
    "    'V161196': 'build_wall', #  Build a wall with Mexico? 1: favor, 2:oppose, 3:neither\n",
    "    'V161204': 'affirmative_action', #  Does R favor or oppose affirmative action in universities? 1: favor, 2:oppose, 3:neither\n",
    "    'V161218': 'corrupt_government', #  How many in government are corrupt? 1:all, 2:most, 3:about half, 4:a few, 5:none\n",
    "    'V161228': 'bathroom_policy', #  Transgender bathroom policy? 1: have to use bathroom of gender born with; 2: be allowed to use the bathroom of their identified gender\n",
    "    'V161231': 'gay_marriage', # position on gay marriage? 1: gay couples should be allowed to marry; 2: gay couples should be allowed to form civil unions, but not marry; 3:  There should be no legal recognition of a gay or lesbian couple’s relationship.\n",
    "    'V161233': 'death_penalty', # R favor oppose death penalty for those convicted of murder? 1: favor, 2: oppose\n",
    "\n",
    "    # Religious views\n",
    "    'V161241': 'rel_important', # Is religion important part of R life? 1: important, 2:not important\n",
    "    'V161242': 'rel_daily_guidance', #  Religion provides guidance in day-to-day living? 1:some, 2:quite a bit, 3:a great deal\n",
    "    'V161243': 'rel_bible_word', # Is Bible word of God or men?  1: The Bible is the actual word of God and is to be taken literally, word for word. 2:The Bible is the word of God but not everything in it should be taken literally; 3:The Bible is a book written by men and is not the word of God.\n",
    "    'V161245a': 'rel_attend_church', # Attend church more often than once a week\n",
    "\n",
    "    # Happy?\n",
    "    'V161522': 'happy_life' #  How satisfied is R with life? 1:extremely, 2:very; 3:moderately, 4:slightly, 5:not at all\n",
    "\n",
    "}"
   ]
  },
  {
   "cell_type": "code",
   "execution_count": 9,
   "metadata": {},
   "outputs": [],
   "source": [
    "issues_columns = [\n",
    "    \"obama_muslim\",\n",
    "    \"climate_change\",\n",
    "    \"cc_caused_by_man\",\n",
    "    \"same_sex_wedding\",\n",
    "    \"econ_health\",\n",
    "    \"birthright_citizenship\",\n",
    "    \"build_wall\",\n",
    "    \"affirmative_action\",\n",
    "    \"corrupt_government\",\n",
    "    \"bathroom_policy\",\n",
    "    \"gay_marriage\",\n",
    "    \"death_penalty\"\n",
    "]\n",
    "\n",
    "np.random.seed(42)"
   ]
  },
  {
   "cell_type": "code",
   "execution_count": 10,
   "metadata": {},
   "outputs": [],
   "source": [
    "# Read in the data ...\n",
    "import sqlite3\n",
    "import pandas as pd\n",
    "conn = sqlite3.connect(\"anes2016.db\")\n",
    "cursor = conn.cursor()\n",
    "\n",
    "# print(type(cursor))\n",
    "# tables = pd.read_sql(\"SELECT name FROM sqlite_master WHERE type='table';\", conn)\n",
    "\n",
    "df = pd.read_sql_query(\"SELECT * FROM anes2016\", conn)\n",
    "# voted = pd.read_sql_query(\"SELECT voted, age FROM anes2016\", conn)\n",
    "# voted.head()\n",
    "#conn.close()\n",
    "\n",
    "\n",
    "\n",
    "\n",
    "\n",
    "\n",
    "\n",
    "cursor.execute('SELECT * FROM anes2016')\n",
    "test = cursor.fetchall()\n",
    "test[:5]\n",
    "df = df.dropna()\n",
    "\n",
    "\n",
    "# Use the votechoice as y\n",
    "X = df[\"happy_life\"]\n",
    "y = df[\"votechoice\"]\n",
    "\n",
    "\n",
    "# Use only the issues_columns as X\n",
    "X = df[issues_columns]"
   ]
  },
  {
   "cell_type": "code",
   "execution_count": null,
   "metadata": {},
   "outputs": [],
   "source": []
  },
  {
   "cell_type": "code",
   "execution_count": 11,
   "metadata": {},
   "outputs": [],
   "source": [
    "# after preparing the data, use train_test_split\n",
    "X_train, X_test, y_train, y_test = train_test_split(X, y, test_size = 0.2, random_state = 42)"
   ]
  },
  {
   "cell_type": "markdown",
   "metadata": {},
   "source": [
    "### Train the Random Forest Classifier Here and extract feature importances..."
   ]
  },
  {
   "cell_type": "code",
   "execution_count": 28,
   "metadata": {},
   "outputs": [
    {
     "name": "stderr",
     "output_type": "stream",
     "text": [
      "c:\\Users\\caleb\\AppData\\Local\\Programs\\Python\\Python313\\Lib\\site-packages\\sklearn\\model_selection\\_split.py:805: UserWarning: The least populated class in y has only 1 members, which is less than n_splits=5.\n",
      "  warnings.warn(\n"
     ]
    },
    {
     "name": "stdout",
     "output_type": "stream",
     "text": [
      "Random Forest Accuracy is: 0.6651053864168618\n"
     ]
    }
   ],
   "source": [
    "np.random.seed(42)\n",
    "\n",
    "from sklearn.metrics import accuracy_score\n",
    "from sklearn.ensemble import RandomForestClassifier\n",
    "from sklearn.model_selection import RandomizedSearchCV, train_test_split\n",
    "from scipy.stats import randint\n",
    "rf = RandomForestClassifier()\n",
    "param_dist = {'n_estimators': range(50,500,10), 'max_depth': range(1,20)}\n",
    "rand_search = RandomizedSearchCV(rf, param_distributions = param_dist, n_iter=5)\n",
    "\n",
    "rand_search.fit(X_train, y_train)\n",
    "best_rf = rand_search.best_estimator_\n",
    "y_pred = best_rf.predict(X_test)\n",
    "accuracy = accuracy_score(y_test, y_pred)\n",
    "print(f\"Random Forest Accuracy is: {accuracy}\")\n",
    "\n",
    "\n",
    "# importances = best_rf.feature_importances_\n",
    "# print(importances)\n",
    "# feature_importance = pd.DataFrame({\n",
    "#     'Feature': X_train.columns,\n",
    "#     'Importance': importances\n",
    "# })\n",
    "# print(feature_importance.sort_values(by='Importance', ascending=False))\n",
    "\n",
    "\n"
   ]
  },
  {
   "cell_type": "markdown",
   "metadata": {},
   "source": [
    "### Train models and evaluate in the below cell"
   ]
  },
  {
   "cell_type": "code",
   "execution_count": 21,
   "metadata": {},
   "outputs": [
    {
     "name": "stderr",
     "output_type": "stream",
     "text": [
      "c:\\Users\\caleb\\AppData\\Local\\Programs\\Python\\Python313\\Lib\\site-packages\\sklearn\\model_selection\\_split.py:805: UserWarning: The least populated class in y has only 1 members, which is less than n_splits=5.\n",
      "  warnings.warn(\n"
     ]
    },
    {
     "name": "stdout",
     "output_type": "stream",
     "text": [
      "Logistic Regression Accuracy is: 0.6241217798594848\n"
     ]
    }
   ],
   "source": [
    "np.random.seed(42)\n",
    "\n",
    "\n",
    "# Train the model using the Logistic Regression Algorithm\n",
    "from sklearn.linear_model import LogisticRegression\n",
    "param_dist = {'C': [0.1, 1, 10],'solver': ['liblinear', 'saga'], 'max_iter': [100, 200]}\n",
    "logreg = LogisticRegression()\n",
    "rand_search = RandomizedSearchCV(logreg, param_distributions=param_dist, n_iter=3, n_jobs=-1)\n",
    "rand_search.fit(X_train, y_train)\n",
    "best_logreg = rand_search.best_estimator_\n",
    "y_pred = best_logreg.predict(X_test)\n",
    "\n",
    "accuracy = accuracy_score(y_test, y_pred)\n",
    "print(f\"Logistic Regression Accuracy is: {accuracy}\")\n",
    "\n",
    "\n"
   ]
  },
  {
   "cell_type": "code",
   "execution_count": null,
   "metadata": {},
   "outputs": [
    {
     "name": "stderr",
     "output_type": "stream",
     "text": [
      "c:\\Users\\caleb\\AppData\\Local\\Programs\\Python\\Python313\\Lib\\site-packages\\sklearn\\model_selection\\_split.py:805: UserWarning: The least populated class in y has only 1 members, which is less than n_splits=5.\n",
      "  warnings.warn(\n"
     ]
    },
    {
     "name": "stdout",
     "output_type": "stream",
     "text": [
      "KNN ccuracy is: 0.6416861826697893\n"
     ]
    }
   ],
   "source": [
    "np.random.seed(42)\n",
    "# Train the model using the KNN Algorithm\n",
    "from sklearn.neighbors import KNeighborsClassifier\n",
    "from sklearn.model_selection import RandomizedSearchCV\n",
    "from sklearn.metrics import accuracy_score\n",
    "\n",
    "param_dist = {\"n_neighbors\": range(3,30)}\n",
    "knn = KNeighborsClassifier()\n",
    "rand_search = RandomizedSearchCV(knn, param_distributions= param_dist, n_iter = 5)\n",
    "rand_search.fit(X_train, y_train)\n",
    "\n",
    "best_knn = rand_search.best_estimator_\n",
    "y_pred = best_knn.predict(X_test)\n",
    "accuracy = accuracy_score(y_test, y_pred)\n",
    "print(f\"KNN accuracy is: {accuracy}\")\n",
    "\n",
    "\n"
   ]
  },
  {
   "cell_type": "code",
   "execution_count": 27,
   "metadata": {},
   "outputs": [
    {
     "name": "stdout",
     "output_type": "stream",
     "text": [
      "MLP Accuracy is: 0.6510538641686182\n"
     ]
    },
    {
     "name": "stderr",
     "output_type": "stream",
     "text": [
      "c:\\Users\\caleb\\AppData\\Local\\Programs\\Python\\Python313\\Lib\\site-packages\\sklearn\\neural_network\\_multilayer_perceptron.py:691: ConvergenceWarning: Stochastic Optimizer: Maximum iterations (200) reached and the optimization hasn't converged yet.\n",
      "  warnings.warn(\n"
     ]
    }
   ],
   "source": [
    "np.random.seed(42)\n",
    "import pandas as pd\n",
    "import numpy as np\n",
    "from sklearn.model_selection import train_test_split\n",
    "from sklearn.preprocessing import StandardScaler\n",
    "from sklearn.neural_network import MLPClassifier\n",
    "from sklearn.linear_model import LogisticRegression\n",
    "from sklearn.ensemble import RandomForestClassifier\n",
    "from sklearn.metrics import accuracy_score, classification_report\n",
    "import seaborn as sns\n",
    "import matplotlib.pyplot as plt\n",
    "\n",
    "\n",
    "from sklearn.neural_network import MLPClassifier\n",
    "from sklearn.metrics import classification_report, confusion_matrix\n",
    "from sklearn.metrics import accuracy_score\n",
    "mlp = MLPClassifier(\n",
    "    # hidden_layer_sizes=(50, 30),   #started with relu\n",
    "    # activation='relu',            \n",
    "    # solver='adam',               \n",
    "    # max_iter=200,                 \n",
    "    # random_state=42\n",
    ")\n",
    "# y_train = y_train.astype(int)#.squeeze() if data is weird?\n",
    "# y_test = y_test.astype(int)\n",
    "\n",
    "mlp.fit(X_train, y_train)\n",
    "y_pred = mlp.predict(X_test)\n",
    "\n",
    "accuracy = accuracy_score(y_test, y_pred)\n",
    "print(f\"MLP Accuracy is: {accuracy}\")"
   ]
  },
  {
   "cell_type": "code",
   "execution_count": null,
   "metadata": {},
   "outputs": [],
   "source": [
    "np.random.seed(42)"
   ]
  }
 ],
 "metadata": {
  "kernelspec": {
   "display_name": "Python 3",
   "language": "python",
   "name": "python3"
  },
  "language_info": {
   "codemirror_mode": {
    "name": "ipython",
    "version": 3
   },
   "file_extension": ".py",
   "mimetype": "text/x-python",
   "name": "python",
   "nbconvert_exporter": "python",
   "pygments_lexer": "ipython3",
   "version": "3.13.2"
  }
 },
 "nbformat": 4,
 "nbformat_minor": 2
}
