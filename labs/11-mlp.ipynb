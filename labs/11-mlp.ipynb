{
  "cells": [
    {
      "cell_type": "markdown",
      "metadata": {
        "id": "IPir_6bCCFnZ"
      },
      "source": [
        "<a href=\"https://colab.research.google.com/github/rhodes-byu/cs180-winter25/blob/main/labs/11-mlp.ipynb\" target=\"_parent\"><img src=\"https://colab.research.google.com/assets/colab-badge.svg\" alt=\"Open In Colab\"/></a><p><b>After clicking the \"Open in Colab\" link, copy the notebook to your own Google Drive before getting started, or it will not save your work</b></p>"
      ]
    },
    {
      "cell_type": "markdown",
      "metadata": {
        "id": "_slaQdUGCB0t"
      },
      "source": [
        "# BYU CS 180 Lab 11: MLP and Backprop"
      ]
    },
    {
      "cell_type": "markdown",
      "metadata": {
        "id": "FHzFQ2fUT6mg"
      },
      "source": [
        "In this lab, you will create and train a simple deep neural network. You will implement a simple DNN using the scikit-learn MLPClassifier to perform classification on the following weather dataset. Use the 'Rain' feature as the target."
      ]
    },
    {
      "cell_type": "markdown",
      "metadata": {
        "id": "IDRQnPU9S9G4"
      },
      "source": [
        "Here is the documentation for the Scikit-Learn MLP Classifier\n",
        "https://scikit-learn.org/stable/modules/generated/sklearn.neural_network.MLPClassifier.html"
      ]
    },
    {
      "cell_type": "code",
      "execution_count": 1,
      "metadata": {
        "id": "5IeuiWZO-tKI"
      },
      "outputs": [],
      "source": [
        "import pandas as pd\n",
        "import numpy as np\n",
        "from sklearn.model_selection import train_test_split\n",
        "from sklearn.preprocessing import StandardScaler\n",
        "from sklearn.neural_network import MLPClassifier\n",
        "from sklearn.linear_model import LogisticRegression\n",
        "from sklearn.ensemble import RandomForestClassifier\n",
        "from sklearn.metrics import accuracy_score, classification_report\n",
        "import seaborn as sns\n",
        "import matplotlib.pyplot as plt"
      ]
    },
    {
      "cell_type": "code",
      "execution_count": 2,
      "metadata": {},
      "outputs": [],
      "source": [
        "# Install kagglehub if not already installed. Uncomment and run the line below if needed.\n",
        "#%pip install kagglehub"
      ]
    },
    {
      "cell_type": "code",
      "execution_count": 3,
      "metadata": {
        "colab": {
          "base_uri": "https://localhost:8080/"
        },
        "id": "apI44ggn_A1l",
        "outputId": "f240af19-b6a2-4e09-9340-141d8026c8d7"
      },
      "outputs": [
        {
          "name": "stderr",
          "output_type": "stream",
          "text": [
            "c:\\Users\\caleb\\AppData\\Local\\Programs\\Python\\Python313\\Lib\\site-packages\\tqdm\\auto.py:21: TqdmWarning: IProgress not found. Please update jupyter and ipywidgets. See https://ipywidgets.readthedocs.io/en/stable/user_install.html\n",
            "  from .autonotebook import tqdm as notebook_tqdm\n"
          ]
        },
        {
          "name": "stdout",
          "output_type": "stream",
          "text": [
            "C:\\Users\\caleb\\.cache\\kagglehub\\datasets\\zeeshier\\weather-forecast-dataset\\versions\\1\n"
          ]
        }
      ],
      "source": [
        "# Load in data\n",
        "import kagglehub\n",
        "\n",
        "# Download latest version\n",
        "path = kagglehub.dataset_download(\"zeeshier/weather-forecast-dataset\")\n",
        "print(path)\n",
        "df = pd.read_csv(f'{path}/weather_forecast_data.csv')\n",
        "np.random.seed(42)"
      ]
    },
    {
      "cell_type": "code",
      "execution_count": 4,
      "metadata": {
        "colab": {
          "base_uri": "https://localhost:8080/",
          "height": 206
        },
        "id": "XpgQRZAXR7PT",
        "outputId": "16c7836e-f601-49d0-a60e-e2983d2cf33b"
      },
      "outputs": [
        {
          "data": {
            "text/html": [
              "<div>\n",
              "<style scoped>\n",
              "    .dataframe tbody tr th:only-of-type {\n",
              "        vertical-align: middle;\n",
              "    }\n",
              "\n",
              "    .dataframe tbody tr th {\n",
              "        vertical-align: top;\n",
              "    }\n",
              "\n",
              "    .dataframe thead th {\n",
              "        text-align: right;\n",
              "    }\n",
              "</style>\n",
              "<table border=\"1\" class=\"dataframe\">\n",
              "  <thead>\n",
              "    <tr style=\"text-align: right;\">\n",
              "      <th></th>\n",
              "      <th>Temperature</th>\n",
              "      <th>Humidity</th>\n",
              "      <th>Wind_Speed</th>\n",
              "      <th>Cloud_Cover</th>\n",
              "      <th>Pressure</th>\n",
              "      <th>Rain</th>\n",
              "    </tr>\n",
              "  </thead>\n",
              "  <tbody>\n",
              "    <tr>\n",
              "      <th>0</th>\n",
              "      <td>23.720338</td>\n",
              "      <td>89.592641</td>\n",
              "      <td>7.335604</td>\n",
              "      <td>50.501694</td>\n",
              "      <td>1032.378759</td>\n",
              "      <td>rain</td>\n",
              "    </tr>\n",
              "    <tr>\n",
              "      <th>1</th>\n",
              "      <td>27.879734</td>\n",
              "      <td>46.489704</td>\n",
              "      <td>5.952484</td>\n",
              "      <td>4.990053</td>\n",
              "      <td>992.614190</td>\n",
              "      <td>no rain</td>\n",
              "    </tr>\n",
              "    <tr>\n",
              "      <th>2</th>\n",
              "      <td>25.069084</td>\n",
              "      <td>83.072843</td>\n",
              "      <td>1.371992</td>\n",
              "      <td>14.855784</td>\n",
              "      <td>1007.231620</td>\n",
              "      <td>no rain</td>\n",
              "    </tr>\n",
              "    <tr>\n",
              "      <th>3</th>\n",
              "      <td>23.622080</td>\n",
              "      <td>74.367758</td>\n",
              "      <td>7.050551</td>\n",
              "      <td>67.255282</td>\n",
              "      <td>982.632013</td>\n",
              "      <td>rain</td>\n",
              "    </tr>\n",
              "    <tr>\n",
              "      <th>4</th>\n",
              "      <td>20.591370</td>\n",
              "      <td>96.858822</td>\n",
              "      <td>4.643921</td>\n",
              "      <td>47.676444</td>\n",
              "      <td>980.825142</td>\n",
              "      <td>no rain</td>\n",
              "    </tr>\n",
              "  </tbody>\n",
              "</table>\n",
              "</div>"
            ],
            "text/plain": [
              "   Temperature   Humidity  Wind_Speed  Cloud_Cover     Pressure     Rain\n",
              "0    23.720338  89.592641    7.335604    50.501694  1032.378759     rain\n",
              "1    27.879734  46.489704    5.952484     4.990053   992.614190  no rain\n",
              "2    25.069084  83.072843    1.371992    14.855784  1007.231620  no rain\n",
              "3    23.622080  74.367758    7.050551    67.255282   982.632013     rain\n",
              "4    20.591370  96.858822    4.643921    47.676444   980.825142  no rain"
            ]
          },
          "execution_count": 4,
          "metadata": {},
          "output_type": "execute_result"
        }
      ],
      "source": [
        "df.head()"
      ]
    },
    {
      "cell_type": "markdown",
      "metadata": {
        "id": "3Okww76GEQ7B"
      },
      "source": [
        "## Task 1\n",
        "Perform a simple exploratory analysis on the data (plot the distribution of rain vs. no rain cases, get counts for features/observations, etc.). Then split the data into a train and test set (70% / 30%), using the 'Rain' column as your target. Stratify your split. Apply any required data preparations or transformations."
      ]
    },
    {
      "cell_type": "code",
      "execution_count": 5,
      "metadata": {
        "id": "n7Fs4KaIMzu7"
      },
      "outputs": [
        {
          "name": "stderr",
          "output_type": "stream",
          "text": [
            "C:\\Users\\caleb\\AppData\\Local\\Temp\\ipykernel_2732\\605728619.py:7: SettingWithCopyWarning: \n",
            "A value is trying to be set on a copy of a slice from a DataFrame.\n",
            "Try using .loc[row_indexer,col_indexer] = value instead\n",
            "\n",
            "See the caveats in the documentation: https://pandas.pydata.org/pandas-docs/stable/user_guide/indexing.html#returning-a-view-versus-a-copy\n",
            "  rain_df[\"Rain\"] = rain_df[\"Rain\"].replace(to_replace=['no rain', 'rain'], value=[0, 1])\n"
          ]
        },
        {
          "data": {
            "image/png": "[encoded data removed]",
            "text/plain": [
              "<Figure size 640x480 with 1 Axes>"
            ]
          },
          "metadata": {},
          "output_type": "display_data"
        },
        {
          "name": "stdout",
          "output_type": "stream",
          "text": [
            "Avg Temp: 22.58172519939987\n",
            "Avg Wind Speed: 9.9062547597493\n"
          ]
        },
        {
          "data": {
            "text/plain": [
              "<Axes: xlabel='Rain', ylabel='Humidity'>"
            ]
          },
          "execution_count": 5,
          "metadata": {},
          "output_type": "execute_result"
        },
        {
          "data": {
            "image/png": "[encoded data removed]",
            "text/plain": [
              "<Figure size 640x480 with 1 Axes>"
            ]
          },
          "metadata": {},
          "output_type": "display_data"
        }
      ],
      "source": [
        "import matplotlib as mp\n",
        "import seaborn as sns\n",
        "import matplotlib.pyplot as plt\n",
        "pd.set_option(\"future.no_silent_downcasting\", True)\n",
        "\n",
        "rain_df = df[[\"Rain\", \"Humidity\"]]\n",
        "rain_df[\"Rain\"] = rain_df[\"Rain\"].replace(to_replace=['no rain', 'rain'], value=[0, 1])\n",
        "sns.histplot(rain_df, x=\"Humidity\")\n",
        "plt.show()\n",
        "\n",
        "avg_temp = df[\"Temperature\"].mean()\n",
        "print(f\"Avg Temp: {avg_temp}\")\n",
        "avg_wind_speed = df[\"Wind_Speed\"]\n",
        "avg_wind_speed = avg_wind_speed.mean()\n",
        "print(f\"Avg Wind Speed: {avg_wind_speed}\")\n",
        "\n",
        "humidity_and_rain = df[[\"Humidity\", \"Rain\"]]\n",
        "sns.boxplot(x=\"Rain\", y=\"Humidity\", data=df)"
      ]
    },
    {
      "cell_type": "code",
      "execution_count": 6,
      "metadata": {
        "id": "lktbIyfc_udW"
      },
      "outputs": [],
      "source": [
        "from sklearn.model_selection import train_test_split\n",
        "from sklearn.naive_bayes import MultinomialNB\n",
        "from sklearn.metrics import accuracy_score\n",
        "from sklearn.feature_extraction.text import CountVectorizer\n",
        "from sklearn.preprocessing import StandardScaler\n",
        "\n",
        "df[\"Rain\"] = df[\"Rain\"].replace(['no rain', 'rain'], [0, 1])\n",
        "\n",
        "X = df.drop(\"Rain\", axis=1)\n",
        "X = pd.get_dummies(X)\n",
        "y = df[\"Rain\"]\n",
        "X_train, X_test, y_train, y_test = train_test_split(\n",
        "    X, y, test_size=0.3, random_state=123, stratify=y\n",
        ")\n",
        "\n",
        "\n",
        "scaler = StandardScaler()\n",
        "X_train_scaled = scaler.fit_transform(X_train)\n",
        "X_test_scaled = scaler.transform(X_test)"
      ]
    },
    {
      "cell_type": "markdown",
      "metadata": {},
      "source": [
        "Suppose you are performing this analysis for a farmer who's work heavily depends on knowing if and when it is going to rain.  Based on your EDA, what metric or metrics would you focus on to evaluate your model?  Why?"
      ]
    },
    {
      "cell_type": "markdown",
      "metadata": {},
      "source": [
        "We might want to find correlations between things like humidity, wind spee, and temperature and rain, to better predict the weather going forward based on past obsertations."
      ]
    },
    {
      "cell_type": "markdown",
      "metadata": {
        "id": "5DuI4u5PM7gE"
      },
      "source": [
        "## Task 2\n",
        "Your next task is to experiment with various MLP architectures to find an optimal model. This will require playing around with different numbers and sizes of hidden layers, trying different activation functions, and finding other hyperparameters to play around with. Use the metric chosen in Task 1 on your test set as your evaluation metric."
      ]
    },
    {
      "cell_type": "code",
      "execution_count": 7,
      "metadata": {
        "colab": {
          "base_uri": "https://localhost:8080/"
        },
        "id": "lfBE_M-WNNTq",
        "outputId": "4fba9699-6840-4046-803b-d9e0b4d81d27"
      },
      "outputs": [
        {
          "name": "stdout",
          "output_type": "stream",
          "text": [
            "Accuracy is: 0.9906666666666667\n"
          ]
        },
        {
          "name": "stderr",
          "output_type": "stream",
          "text": [
            "c:\\Users\\caleb\\AppData\\Local\\Programs\\Python\\Python313\\Lib\\site-packages\\sklearn\\neural_network\\_multilayer_perceptron.py:691: ConvergenceWarning: Stochastic Optimizer: Maximum iterations (200) reached and the optimization hasn't converged yet.\n",
            "  warnings.warn(\n"
          ]
        }
      ],
      "source": [
        "# TODO: Build and fit a simple MLP\n",
        "from sklearn.neural_network import MLPClassifier\n",
        "from sklearn.metrics import classification_report, confusion_matrix\n",
        "from sklearn.metrics import accuracy_score\n",
        "mlp = MLPClassifier(\n",
        "    hidden_layer_sizes=(50, 30),   #started with relu\n",
        "    activation='relu',            \n",
        "    solver='adam',               \n",
        "    max_iter=200,                 \n",
        "    random_state=42\n",
        ")\n",
        "y_train = y_train.astype(int)#.squeeze() if data is weird?\n",
        "y_test = y_test.astype(int)\n",
        "\n",
        "mlp.fit(X_train_scaled, y_train)\n",
        "y_pred = mlp.predict(X_test_scaled)\n",
        "\n",
        "accuracy = accuracy_score(y_test, y_pred)\n",
        "print(f\"Accuracy is: {accuracy}\")\n",
        "\n",
        "# TODO: Test different architectures (adjust the 'hidden_layer_sizes' value)\n",
        "\n",
        "# TODO: Test different activation functions\n"
      ]
    },
    {
      "cell_type": "markdown",
      "metadata": {
        "id": "3I7dVvc9Rxnj"
      },
      "source": [
        "What number of hidden layers worked best for you? What size were they? Why do you think this architecture worked better than others?"
      ]
    },
    {
      "cell_type": "markdown",
      "metadata": {
        "id": "4WPFq-3iSDFR"
      },
      "source": [
        "Two layers with depth 50 and 30 seemed to work best, there seemed to be diminishing returns past that for both the layer sizes and the max iterations, and I didn't want to overfit the data or make it bad at predicting outside its own training data."
      ]
    },
    {
      "cell_type": "markdown",
      "metadata": {
        "id": "FfVBqYyfSCMw"
      },
      "source": [
        "Briefly read into the different activation functions and what makes each one unique. Which one worked best for you? Why do you think that is?"
      ]
    },
    {
      "cell_type": "markdown",
      "metadata": {
        "id": "2E-C9MU-ST_S"
      },
      "source": [
        "I tried logistic and identiy, and while logistic was close, it still was a little bit worse than relu. I looked into the differences between relu and the other activation functions and it looks like the main advantages are its non-linearity and the reduced change of vanishing gradiants, although I still had a tricky time fully conceptualizing it."
      ]
    },
    {
      "cell_type": "markdown",
      "metadata": {
        "id": "OeQDD2MXRj6-"
      },
      "source": [
        "## Task 3\n",
        "a) Fit a random forest and logistic regression to this same dataset. See how their performance compares to your best MLP. These libaries are already imported. Documentation can be found at the following links.\n",
        "\n",
        "- https://scikit-learn.org/stable/modules/generated/sklearn.ensemble.RandomForestClassifier.html\n",
        "- https://scikit-learn.org/stable/modules/generated/sklearn.linear_model.LogisticRegression.html"
      ]
    },
    {
      "cell_type": "code",
      "execution_count": 11,
      "metadata": {
        "colab": {
          "base_uri": "https://localhost:8080/"
        },
        "id": "oHgNIB-YRuGX",
        "outputId": "db1f3c6b-5c7a-43a2-e07b-f040bd8b0ff6"
      },
      "outputs": [
        {
          "name": "stdout",
          "output_type": "stream",
          "text": [
            "Accuracy is: 0.996\n"
          ]
        }
      ],
      "source": [
        "# TODO: Implement random forest\n",
        "from sklearn.ensemble import RandomForestClassifier\n",
        "from sklearn.model_selection import RandomizedSearchCV, train_test_split\n",
        "from scipy.stats import randint\n",
        "rf = RandomForestClassifier()\n",
        "param_dist = {'n_estimators': range(50,500,10), 'max_depth': range(1,20)}\n",
        "rand_search = RandomizedSearchCV(rf, param_distributions = param_dist, n_iter=5)\n",
        "\n",
        "rand_search.fit(X_train, y_train)\n",
        "best_rf = rand_search.best_estimator_\n",
        "y_pred = best_rf.predict(X_test)\n",
        "accuracy = accuracy_score(y_test, y_pred)\n",
        "print(f\"Accuracy is: {accuracy}\")\n"
      ]
    },
    {
      "cell_type": "code",
      "execution_count": 12,
      "metadata": {
        "colab": {
          "base_uri": "https://localhost:8080/"
        },
        "id": "P7aFbKCHTkMs",
        "outputId": "733da23a-ba93-4f20-daa9-cc97a5c86fd8"
      },
      "outputs": [
        {
          "name": "stdout",
          "output_type": "stream",
          "text": [
            "Accuracy is: 0.9226666666666666\n"
          ]
        },
        {
          "name": "stderr",
          "output_type": "stream",
          "text": [
            "c:\\Users\\caleb\\AppData\\Local\\Programs\\Python\\Python313\\Lib\\site-packages\\sklearn\\linear_model\\_sag.py:348: ConvergenceWarning: The max_iter was reached which means the coef_ did not converge\n",
            "  warnings.warn(\n"
          ]
        }
      ],
      "source": [
        "# TODO: Implement logistic regression\n",
        "from sklearn.linear_model import LogisticRegression\n",
        "param_dist = {'C': [0.1, 1, 10],'solver': ['liblinear', 'saga'], 'max_iter': [100, 200]}\n",
        "logreg = LogisticRegression()\n",
        "rand_search = RandomizedSearchCV(logreg, param_distributions=param_dist, n_iter=3, n_jobs=-1)\n",
        "rand_search.fit(X_train, y_train)\n",
        "best_logreg = rand_search.best_estimator_\n",
        "y_pred = best_logreg.predict(X_test)\n",
        "\n",
        "accuracy = accuracy_score(y_test, y_pred)\n",
        "print(f\"Accuracy is: {accuracy}\")"
      ]
    },
    {
      "cell_type": "markdown",
      "metadata": {},
      "source": [
        "b) For each model, determine a measure of variable importance. For the random forest, you can use the feature importances_ attribute. For the logistic regression, you can use the absolute value of the coefficients. For the MLP, you can use permutation importance (see documentation below).\n",
        "\n",
        "[Permutation Importance](https://scikit-learn.org/stable/modules/permutation_importance.html)"
      ]
    },
    {
      "cell_type": "code",
      "execution_count": null,
      "metadata": {},
      "outputs": [],
      "source": [
        "# TODO: Feature importances here"
      ]
    },
    {
      "cell_type": "markdown",
      "metadata": {},
      "source": [
        "c) For each set of importances, plot the feature importances using a bar plot, sorted by importance. Include each of the three plots in a single figure with three subplots. (Note: the three sets of scores will be on different scales)"
      ]
    },
    {
      "cell_type": "code",
      "execution_count": null,
      "metadata": {},
      "outputs": [],
      "source": [
        "# TODO: Plot feature importances here"
      ]
    },
    {
      "cell_type": "markdown",
      "metadata": {
        "id": "f_vFxs5ATKIe"
      },
      "source": [
        "How does the MLP compare to Logistic Regression and Random Forest?"
      ]
    },
    {
      "cell_type": "markdown",
      "metadata": {
        "id": "BxbxHkJxTZVZ"
      },
      "source": [
        "MLP was a little bit better at predicting the liklihood of rain than Logistic Regresssion and Random forest, although it's difficult to tell just how much better it might be since they're already competing for the last ~8 percent accuracy. We'd likely get a better picture of the differences if they were tested on a much more difficult dataset."
      ]
    },
    {
      "cell_type": "markdown",
      "metadata": {},
      "source": [
        "Do the feature importances agree between the models? Do the importances intuitively make sense? Explain."
      ]
    },
    {
      "cell_type": "markdown",
      "metadata": {},
      "source": []
    },
    {
      "cell_type": "markdown",
      "metadata": {
        "id": "TPX8FUU1TYzi"
      },
      "source": [
        "What are the tradeoffs between model complexity and model interpretability?"
      ]
    },
    {
      "cell_type": "markdown",
      "metadata": {
        "id": "9scX9xgzTfdC"
      },
      "source": [
        "There's usually a tradeoff betwewen the two, if it's easier for a human to interpret, it's usually less complex, and vice versa. Case in point, MLP is very complex and produces great predictions, but the finished model doesn't make much sense to a person due to the increased complexity."
      ]
    }
  ],
  "metadata": {
    "colab": {
      "provenance": []
    },
    "kernelspec": {
      "display_name": "Python 3",
      "language": "python",
      "name": "python3"
    },
    "language_info": {
      "codemirror_mode": {
        "name": "ipython",
        "version": 3
      },
      "file_extension": ".py",
      "mimetype": "text/x-python",
      "name": "python",
      "nbconvert_exporter": "python",
      "pygments_lexer": "ipython3",
      "version": "3.13.2"
    }
  },
  "nbformat": 4,
  "nbformat_minor": 0
}
